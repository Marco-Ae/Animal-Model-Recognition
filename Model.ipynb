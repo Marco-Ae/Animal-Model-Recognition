{
 "cells": [
  {
   "cell_type": "code",
   "execution_count": 1,
   "id": "aac9a744",
   "metadata": {},
   "outputs": [],
   "source": [
    "# 🔢 Importazione delle librerie necessarie\n",
    "import numpy as np\n",
    "import tensorflow as tf\n",
    "from tensorflow.keras import layers, models\n",
    "import matplotlib.pyplot as plt\n",
    "\n",
    "# `numpy` serve per operazioni numeriche\n",
    "# `tensorflow` è il framework che contiene Keras\n",
    "# `layers` e `models` ci servono per costruire la rete\n",
    "# `matplotlib.pyplot` serve per disegnare grafici (es. accuratezza, loss)"
   ]
  },
  {
   "cell_type": "code",
   "execution_count": null,
   "id": "1c6f914f",
   "metadata": {},
   "outputs": [],
   "source": [
    "class Model:\n",
    "    def __init__(self):\n",
    "        self.model = models.Sequential()\n",
    "        #layer di input\n",
    "        self.model.add(layers.Input(shape=(200, 200, 3)))\n",
    "        # Aggiungiamo uno strato convoluzionale con 32 filtri 3x3, attivazione ReLU, 32 kernel \n",
    "        self.model.add(layers.Conv2D(64, (3, 3), activation='relu'))\n",
    "        # Segue uno strato di max pooling 2x2 (riduce dimensione e mantiene caratteristiche)\n",
    "        self.model.add(layers.MaxPooling2D((100, 100)))\n",
    "        # Secondo strato convoluzionale con 64 filtri 3x3\n",
    "        self.model.add(layers.Conv2D(64, (3, 3), activation='relu'))\n",
    "        self.model.add(layers.MaxPooling2D((50, 50)))\n",
    "        # Terzo strato convoluzionale\n",
    "        self.model.add(layers.Conv2D(32, (3, 3), activation='relu'))\n",
    "        # Appiattiamo il tensore per passarlo a uno strato fully connected\n",
    "        self.model.add(layers.Flatten())\n",
    "        # Strato denso con 64 neuroni e ReLU\n",
    "        self.model.add(layers.Dense(64, activation='relu'))\n",
    "        # Strato di output con 10 neuroni (uno per cifra), attivazione softmax per classificazione\n",
    "        self.model.add(layers.Dense(33, activation='softmax'))\n",
    "    \n",
    "    \n",
    "    def compile(self, optimizer, loss, metrics):\n",
    "         # ⚙️ Compilazione del modello\n",
    "       return self.model.compile(optimizer=optimizer,   # `adam` è un algoritmo di ottimizzazione che funziona bene nella pratica\n",
    "                    loss=loss,  # `categorical_crossentropy` è la funzione di errore per classificazione multiclasse\n",
    "                    metrics=metrics)   # `accuracy` è la metrica che ci interessa monitorare\n",
    "\n",
    "    \n",
    "    def training (self, x_train, y_train_cat, epochs, batch_size, validation_split):\n",
    "        # 🚂 Addestramento del modello\n",
    "        history = self.model.fit(x_train, y_train_cat,\n",
    "                            epochs=epochs,\n",
    "                            batch_size=batch_size, #i pesi vengono aggiornati dopo 64 immagini\n",
    "                            #fa la media dei valori delle 64 immagini e poi aggiorna\n",
    "                            validation_split=validation_split) #splitta validation e train)\n",
    "\n",
    "        # `epochs=5`: il modello passerà 5 volte su tutti i dati di training\n",
    "        # `batch_size=64`: aggiorna i pesi ogni 64 immagini\n",
    "        # `validation_split=0.1`: usa il 10% dei dati per la validazione durante l'addestramento\n",
    "        return history\n",
    "        \n",
    "    def predict(self, X_test):\n",
    "        y_pred_scaled = self.model.predict(X_test)\n",
    "        return y_pred_scaled\n",
    "\n",
    "    def evaluation (self, x_test, y_pred_cat):\n",
    "        # ✅ Valutazione sul test set\n",
    "        test_loss, test_acc = self.model.evaluate(x_test, y_pred_cat)\n",
    "        return f\"Test accuracy: {test_acc:.2f}, \\n Test loss: {test_loss:.2f}\"\n",
    "\n",
    "        # Usiamo i dati di test per vedere se il modello generalizza bene"
   ]
  },
  {
   "cell_type": "code",
   "execution_count": null,
   "id": "3c820643",
   "metadata": {},
   "outputs": [],
   "source": []
  }
 ],
 "metadata": {
  "kernelspec": {
   "display_name": "animal_recognition",
   "language": "python",
   "name": "python3"
  },
  "language_info": {
   "codemirror_mode": {
    "name": "ipython",
    "version": 3
   },
   "file_extension": ".py",
   "mimetype": "text/x-python",
   "name": "python",
   "nbconvert_exporter": "python",
   "pygments_lexer": "ipython3",
   "version": "3.12.0"
  }
 },
 "nbformat": 4,
 "nbformat_minor": 5
}
