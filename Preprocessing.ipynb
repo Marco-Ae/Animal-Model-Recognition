{
 "cells": [
  {
   "cell_type": "code",
   "execution_count": 1,
   "id": "e763911f",
   "metadata": {},
   "outputs": [],
   "source": [
    "# 🔢 Importazione delle librerie necessarie\n",
    "import numpy as np\n",
    "import tensorflow as tf\n",
    "from tensorflow.keras import layers, models\n",
    "import matplotlib.pyplot as plt\n",
    "from sklearn.model_selection import train_test_split\n",
    "from sklearn.preprocessing import LabelEncoder\n",
    "# `numpy` serve per operazioni numeriche\n",
    "# `tensorflow` è il framework che contiene Keras\n",
    "# `layers` e `models` ci servono per costruire la rete\n",
    "# `matplotlib.pyplot` serve per disegnare grafici (es. accuratezza, loss)"
   ]
  },
  {
   "cell_type": "code",
   "execution_count": null,
   "id": "b272ddc9",
   "metadata": {},
   "outputs": [],
   "source": [
    "class preprocessing:\n",
    "    def __init__(self):\n",
    "        pass\n",
    "    \n",
    "    def split(self, X, Y):\n",
    "        self.x_train, self.x_test, self.y_train, self.y_test= train_test_split(X,Y, test_size=0.2, random_state=42, shuffle=True, stratify=Y)\n",
    "        return self.x_train, self.x_test, self.y_train, self.y_test\n",
    "    \n",
    "    def normalize(self):\n",
    "        # 📏 Normalizzazione dei dati\n",
    "        self.x_train = self.x_train.astype('float32') / 255.0\n",
    "        self.x_test = self.x_test.astype('float32') / 255.0\n",
    "        return self.x_test, self.x_train\n",
    "        # Convertiamo i valori dei pixel da interi (0-255) a float (0.0-1.0) Questo aiuta l'apprendimento della rete neurale (valori più piccoli e consistenti)\n",
    "\n",
    "    def le(self): #label encoding\n",
    "        le=LabelEncoder()\n",
    "        self.y_train_label=le.fit_transform(self.y_train)\n",
    "        self.y_test_label=le.fit_transform(self.y_test)\n",
    "        return self.y_train_label,  self.y_test_label\n",
    "    \n",
    "    def ohe(self): #one hot encoding\n",
    "        # 🔤 One-hot encoding delle etichette\n",
    "        self.y_train_cat = tf.keras.utils.to_categorical(self.y_train_label, 33) # Le etichette da 0 a 9 vengono trasformate in vettori binari di lunghezza 10\n",
    "        self.y_test_cat = tf.keras.utils.to_categorical(self.y_test_label, 33)\n",
    "        return self.y_train_cat,  self.y_test_cat\n",
    "                \n"
   ]
  }
 ],
 "metadata": {
  "kernelspec": {
   "display_name": "animal_recognition",
   "language": "python",
   "name": "python3"
  },
  "language_info": {
   "codemirror_mode": {
    "name": "ipython",
    "version": 3
   },
   "file_extension": ".py",
   "mimetype": "text/x-python",
   "name": "python",
   "nbconvert_exporter": "python",
   "pygments_lexer": "ipython3",
   "version": "3.12.0"
  }
 },
 "nbformat": 4,
 "nbformat_minor": 5
}
