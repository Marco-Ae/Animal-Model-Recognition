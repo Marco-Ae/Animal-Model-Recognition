{
 "cells": [
  {
   "cell_type": "code",
   "execution_count": 1,
   "id": "dcd8c154",
   "metadata": {},
   "outputs": [
    {
     "name": "stdout",
     "output_type": "stream",
     "text": [
      "Tutti i PNG generati con disturbi e dimensioni 300x300.\n"
     ]
    }
   ],
   "source": [
    "import os\n",
    "import random\n",
    "import numpy as np\n",
    "from PIL import Image, ImageEnhance, ImageFilter\n",
    "\n",
    "# Path di input e output\n",
    "input_folder = r\"C:\\Users\\Gaia\\Desktop\\png_lavorati\"\n",
    "output_folder =r\"C:\\Users\\Gaia\\Desktop\\output_PNG\"\n",
    "os.makedirs(output_folder, exist_ok=True)\n",
    "\n",
    "def disturba(img):\n",
    "    \"\"\"Applica una trasformazione casuale per simulare disturbo spettrale\"\"\"\n",
    "    tipo = random.choice([\"noise\", \"contrast\", \"blur\", \"shift\", \"band_cut\", \"wave\"])\n",
    "    \n",
    "    if tipo == \"noise\":\n",
    "        arr = np.array(img)\n",
    "        noise = np.random.normal(0, 25, arr.shape).astype(np.int16)\n",
    "        arr_noise = np.clip(arr + noise, 0, 255).astype(np.uint8)\n",
    "        return Image.fromarray(arr_noise)\n",
    "\n",
    "    elif tipo == \"contrast\":\n",
    "        factor = random.uniform(0.5, 2.0)\n",
    "        enhancer = ImageEnhance.Contrast(img)\n",
    "        return enhancer.enhance(factor)\n",
    "\n",
    "    elif tipo == \"blur\":\n",
    "        return img.filter(ImageFilter.GaussianBlur(radius=random.uniform(0.5, 2.0)))\n",
    "\n",
    "    elif tipo == \"shift\":\n",
    "        arr = np.array(img)\n",
    "        shift = random.randint(-10, 10)\n",
    "        arr_shifted = np.roll(arr, shift, axis=1)\n",
    "        return Image.fromarray(arr_shifted)\n",
    "\n",
    "    elif tipo == \"band_cut\":\n",
    "        arr = np.array(img)\n",
    "        h, w = arr.shape[:2]\n",
    "        y1 = random.randint(0, h-20)\n",
    "        y2 = y1 + random.randint(10, 30)\n",
    "        arr[y1:y2, :, :] = 0\n",
    "        return Image.fromarray(arr)\n",
    "\n",
    "    elif tipo == \"wave\":\n",
    "        arr = np.array(img)\n",
    "        for i in range(arr.shape[0]):\n",
    "            shift = int(5 * np.sin(i / 10.0))\n",
    "            arr[i] = np.roll(arr[i], shift, axis=0)\n",
    "        return Image.fromarray(arr)\n",
    "\n",
    "    return img\n",
    "\n",
    "# Loop su ogni PNG\n",
    "for filename in os.listdir(input_folder):\n",
    "    if filename.lower().endswith(\".png\"):\n",
    "        img_path = os.path.join(input_folder, filename)\n",
    "        original = Image.open(img_path).convert(\"RGB\")\n",
    "\n",
    "        # Ridimensiona l'originale a 300x300\n",
    "        original = original.resize((300, 300))\n",
    "\n",
    "        # Genera 9 copie disturbate\n",
    "        for i in range(9):\n",
    "            img_mod = disturba(original)\n",
    "            img_mod = img_mod.resize((300, 300))  # Assicura che la copia sia 300x300\n",
    "            new_name = f\"{os.path.splitext(filename)[0]}_aug{i+1}.png\"\n",
    "            img_mod.save(os.path.join(output_folder, new_name))\n",
    "\n",
    "print(\"Tutti i PNG generati con disturbi e dimensioni 300x300.\")"
   ]
  }
 ],
 "metadata": {
  "kernelspec": {
   "display_name": "tensorflow_env",
   "language": "python",
   "name": "python3"
  },
  "language_info": {
   "codemirror_mode": {
    "name": "ipython",
    "version": 3
   },
   "file_extension": ".py",
   "mimetype": "text/x-python",
   "name": "python",
   "nbconvert_exporter": "python",
   "pygments_lexer": "ipython3",
   "version": "3.12.0"
  }
 },
 "nbformat": 4,
 "nbformat_minor": 5
}
